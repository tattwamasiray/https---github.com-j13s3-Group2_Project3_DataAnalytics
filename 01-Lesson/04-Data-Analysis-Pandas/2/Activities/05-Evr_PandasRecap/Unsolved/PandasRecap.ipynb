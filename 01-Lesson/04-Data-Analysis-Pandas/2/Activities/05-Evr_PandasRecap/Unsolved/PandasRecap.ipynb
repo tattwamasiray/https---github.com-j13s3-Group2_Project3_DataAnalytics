{
 "cells": [
  {
   "cell_type": "code",
   "execution_count": null,
   "metadata": {
    "collapsed": true
   },
   "outputs": [],
   "source": [
    "# Import the Pandas library\n",
    "import pandas as pd"
   ]
  },
  {
   "cell_type": "code",
   "execution_count": null,
   "metadata": {
    "collapsed": true
   },
   "outputs": [],
   "source": [
    "# Create a reference the CSV file desired\n",
    "\n",
    "# Read the CSV into a Pandas DataFrame\n",
    "\n",
    "# Print the first five rows of data to the screen"
   ]
  },
  {
   "cell_type": "code",
   "execution_count": null,
   "metadata": {
    "collapsed": true
   },
   "outputs": [],
   "source": [
    "# Check the names of all the columns and see if there are any rows with missing data"
   ]
  },
  {
   "cell_type": "code",
   "execution_count": null,
   "metadata": {},
   "outputs": [],
   "source": [
    "# Rename columns: \"X\" to \"LONGITUDE\", \"Y\" to \"LATITUDE\", \"RA_NAME\" to \"RESPONSIBILITY_AREA\",\n",
    "# and \"LG_NAME\" to \"LOCAL_GOVERNMENT_NAME\""
   ]
  },
  {
   "cell_type": "code",
   "execution_count": null,
   "metadata": {
    "collapsed": true
   },
   "outputs": [],
   "source": [
    "# Reorder and reduce to columns that will help us identify inaccessibly concerns and make improvements: \n",
    "# COMMON_USAGE_NAME, RESPONSIBILITY_AREA, LOCAL_GOVERNMENT_NAME,\n",
    "# REST_AREA_TYPE, STAY_24_HOUR, OWNERSHIP, SURFACE, SURFACE_TYPE,\n",
    "# CONSTRUCTED_SHELTER, NATURAL_SHADE, NUMBER_OF_BINS, NUMBER_OF_TOILETS, \n",
    "# ACCESSIBLE_TOILETS, NUMBER_OF_TABLES, ACCESSIBLE_TABLES, LATITUDE, LONGITUDE"
   ]
  },
  {
   "cell_type": "code",
   "execution_count": null,
   "metadata": {},
   "outputs": [],
   "source": [
    "# Fill NA values for the column \"SURFACE_TYPE\" with \"Unknown\""
   ]
  },
  {
   "cell_type": "code",
   "execution_count": null,
   "metadata": {},
   "outputs": [],
   "source": [
    "# Remove any additional rows with missing data"
   ]
  },
  {
   "cell_type": "code",
   "execution_count": null,
   "metadata": {
    "collapsed": true
   },
   "outputs": [],
   "source": [
    "# Filter data to road stops in which \"Main Roads\" is the owner and \n",
    "# that are either unsurfaced, do not have accessible toilets or do not have accessible tables\n",
    "# So Main Roads knows which road stops need accessibility improvements"
   ]
  },
  {
   "cell_type": "code",
   "execution_count": null,
   "metadata": {
    "collapsed": true
   },
   "outputs": [],
   "source": [
    "# Count how many inaccessible road stops are in each local govenment area"
   ]
  },
  {
   "cell_type": "code",
   "execution_count": null,
   "metadata": {
    "collapsed": true
   },
   "outputs": [],
   "source": [
    "# Convert the lg_counts Series into a DataFrame"
   ]
  },
  {
   "cell_type": "code",
   "execution_count": null,
   "metadata": {
    "collapsed": true
   },
   "outputs": [],
   "source": [
    "# Convert the column name into \"Number of Road Stops to Improve Accessibility\""
   ]
  },
  {
   "cell_type": "code",
   "execution_count": null,
   "metadata": {},
   "outputs": [],
   "source": [
    "# Want to calculate the total number of tables? There is a problem\n",
    "# Problem can be seen by examining datatypes within the DataFrame of inaccessible road stops"
   ]
  },
  {
   "cell_type": "code",
   "execution_count": null,
   "metadata": {
    "collapsed": true
   },
   "outputs": [],
   "source": [
    "# Use astype() to convert a column's data into an integer"
   ]
  },
  {
   "cell_type": "code",
   "execution_count": null,
   "metadata": {},
   "outputs": [],
   "source": [
    "# Calculate the number of tables currently available at inaccessible Main Roads road stops"
   ]
  }
 ],
 "metadata": {
  "kernelspec": {
   "display_name": "Python 3",
   "language": "python",
   "name": "python3"
  },
  "language_info": {
   "codemirror_mode": {
    "name": "ipython",
    "version": 3
   },
   "file_extension": ".py",
   "mimetype": "text/x-python",
   "name": "python",
   "nbconvert_exporter": "python",
   "pygments_lexer": "ipython3",
   "version": "3.8.8"
  }
 },
 "nbformat": 4,
 "nbformat_minor": 2
}
