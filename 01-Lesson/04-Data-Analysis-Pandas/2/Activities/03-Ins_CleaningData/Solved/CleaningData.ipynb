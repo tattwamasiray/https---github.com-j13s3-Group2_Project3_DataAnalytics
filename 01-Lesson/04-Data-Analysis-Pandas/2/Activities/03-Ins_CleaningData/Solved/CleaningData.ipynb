{
 "cells": [
  {
   "cell_type": "code",
   "execution_count": 1,
   "metadata": {},
   "outputs": [],
   "source": [
    "# Dependencies\n",
    "import pandas as pd"
   ]
  },
  {
   "cell_type": "code",
   "execution_count": 2,
   "metadata": {
    "inputHidden": false,
    "outputHidden": false
   },
   "outputs": [],
   "source": [
    "# Name of the CSV file\n",
    "file = 'Resources/tas_employment.csv'"
   ]
  },
  {
   "cell_type": "code",
   "execution_count": 3,
   "metadata": {
    "inputHidden": false,
    "outputHidden": false
   },
   "outputs": [],
   "source": [
    "# The correct encoding must be used to read the CSV in pandas\n",
    "df = pd.read_csv(file)"
   ]
  },
  {
   "cell_type": "code",
   "execution_count": 4,
   "metadata": {
    "inputHidden": false,
    "outputHidden": false
   },
   "outputs": [
    {
     "data": {
      "text/html": [
       "<div>\n",
       "<style scoped>\n",
       "    .dataframe tbody tr th:only-of-type {\n",
       "        vertical-align: middle;\n",
       "    }\n",
       "\n",
       "    .dataframe tbody tr th {\n",
       "        vertical-align: top;\n",
       "    }\n",
       "\n",
       "    .dataframe thead th {\n",
       "        text-align: right;\n",
       "    }\n",
       "</style>\n",
       "<table border=\"1\" class=\"dataframe\">\n",
       "  <thead>\n",
       "    <tr style=\"text-align: right;\">\n",
       "      <th></th>\n",
       "      <th>NAME</th>\n",
       "      <th>AGE</th>\n",
       "      <th>OCCUP</th>\n",
       "      <th>YEAR</th>\n",
       "      <th>NAME_RANK</th>\n",
       "      <th>EMPLOY_DATE</th>\n",
       "      <th>EMPLOYER</th>\n",
       "      <th>OCCUP_INDEX</th>\n",
       "      <th>RECORD_URL</th>\n",
       "    </tr>\n",
       "  </thead>\n",
       "  <tbody>\n",
       "    <tr>\n",
       "      <th>0</th>\n",
       "      <td>Crowther, Edward Lodewyk</td>\n",
       "      <td>33.0</td>\n",
       "      <td>Doctor of Medicine</td>\n",
       "      <td>1878</td>\n",
       "      <td>Commanding Officer</td>\n",
       "      <td>23 Apr 1878</td>\n",
       "      <td>Southern Volunteer Artillery</td>\n",
       "      <td>Doctor of Medicine</td>\n",
       "      <td>https://stors.tas.gov.au/NI/1517087</td>\n",
       "    </tr>\n",
       "    <tr>\n",
       "      <th>1</th>\n",
       "      <td>Crowther, William L</td>\n",
       "      <td>63.0</td>\n",
       "      <td>Doctor of Medicine</td>\n",
       "      <td>1878</td>\n",
       "      <td>Surgeon Major</td>\n",
       "      <td>10 May 1878</td>\n",
       "      <td>Southern Volunteer Artillery</td>\n",
       "      <td>Doctor of Medicine</td>\n",
       "      <td>https://stors.tas.gov.au/NI/1517088</td>\n",
       "    </tr>\n",
       "    <tr>\n",
       "      <th>2</th>\n",
       "      <td>Roblin, Thomas</td>\n",
       "      <td>50.0</td>\n",
       "      <td>Curator of Museum</td>\n",
       "      <td>1878</td>\n",
       "      <td>Lieutenant</td>\n",
       "      <td>23 Apr 1878</td>\n",
       "      <td>Southern Volunteer Artillery</td>\n",
       "      <td>Curator of Museum</td>\n",
       "      <td>https://stors.tas.gov.au/NI/1517089</td>\n",
       "    </tr>\n",
       "    <tr>\n",
       "      <th>3</th>\n",
       "      <td>Lewis, D</td>\n",
       "      <td>NaN</td>\n",
       "      <td>Merchant</td>\n",
       "      <td>1878</td>\n",
       "      <td>Major Paymaster</td>\n",
       "      <td>23 Apr 1878</td>\n",
       "      <td>Southern Volunteer Artillery</td>\n",
       "      <td>Merchant</td>\n",
       "      <td>https://stors.tas.gov.au/NI/1517090</td>\n",
       "    </tr>\n",
       "    <tr>\n",
       "      <th>4</th>\n",
       "      <td>Green, William Patrick</td>\n",
       "      <td>NaN</td>\n",
       "      <td>Gentleman</td>\n",
       "      <td>1878</td>\n",
       "      <td>Quartermaster Captain</td>\n",
       "      <td>16 Aug 1878</td>\n",
       "      <td>Southern Volunteer Artillery</td>\n",
       "      <td>Gentleman</td>\n",
       "      <td>https://stors.tas.gov.au/NI/1517091</td>\n",
       "    </tr>\n",
       "  </tbody>\n",
       "</table>\n",
       "</div>"
      ],
      "text/plain": [
       "                       NAME   AGE               OCCUP  YEAR  \\\n",
       "0  Crowther, Edward Lodewyk  33.0  Doctor of Medicine  1878   \n",
       "1       Crowther, William L  63.0  Doctor of Medicine  1878   \n",
       "2            Roblin, Thomas  50.0   Curator of Museum  1878   \n",
       "3                  Lewis, D   NaN            Merchant  1878   \n",
       "4    Green, William Patrick   NaN           Gentleman  1878   \n",
       "\n",
       "               NAME_RANK  EMPLOY_DATE                      EMPLOYER  \\\n",
       "0     Commanding Officer  23 Apr 1878  Southern Volunteer Artillery   \n",
       "1          Surgeon Major  10 May 1878  Southern Volunteer Artillery   \n",
       "2             Lieutenant  23 Apr 1878  Southern Volunteer Artillery   \n",
       "3        Major Paymaster  23 Apr 1878  Southern Volunteer Artillery   \n",
       "4  Quartermaster Captain  16 Aug 1878  Southern Volunteer Artillery   \n",
       "\n",
       "          OCCUP_INDEX                           RECORD_URL  \n",
       "0  Doctor of Medicine  https://stors.tas.gov.au/NI/1517087  \n",
       "1  Doctor of Medicine  https://stors.tas.gov.au/NI/1517088  \n",
       "2   Curator of Museum  https://stors.tas.gov.au/NI/1517089  \n",
       "3            Merchant  https://stors.tas.gov.au/NI/1517090  \n",
       "4           Gentleman  https://stors.tas.gov.au/NI/1517091  "
      ]
     },
     "execution_count": 4,
     "metadata": {},
     "output_type": "execute_result"
    }
   ],
   "source": [
    "# Preview of the DataFrame\n",
    "# Note that OCCUP_INDEX appears to be duplicating OCCUP\n",
    "df.head()"
   ]
  },
  {
   "cell_type": "code",
   "execution_count": 5,
   "metadata": {
    "inputHidden": false,
    "outputHidden": false
   },
   "outputs": [
    {
     "data": {
      "text/html": [
       "<div>\n",
       "<style scoped>\n",
       "    .dataframe tbody tr th:only-of-type {\n",
       "        vertical-align: middle;\n",
       "    }\n",
       "\n",
       "    .dataframe tbody tr th {\n",
       "        vertical-align: top;\n",
       "    }\n",
       "\n",
       "    .dataframe thead th {\n",
       "        text-align: right;\n",
       "    }\n",
       "</style>\n",
       "<table border=\"1\" class=\"dataframe\">\n",
       "  <thead>\n",
       "    <tr style=\"text-align: right;\">\n",
       "      <th></th>\n",
       "      <th>NAME</th>\n",
       "      <th>AGE</th>\n",
       "      <th>OCCUP</th>\n",
       "      <th>YEAR</th>\n",
       "      <th>NAME_RANK</th>\n",
       "      <th>EMPLOY_DATE</th>\n",
       "      <th>EMPLOYER</th>\n",
       "      <th>RECORD_URL</th>\n",
       "    </tr>\n",
       "  </thead>\n",
       "  <tbody>\n",
       "    <tr>\n",
       "      <th>0</th>\n",
       "      <td>Crowther, Edward Lodewyk</td>\n",
       "      <td>33.0</td>\n",
       "      <td>Doctor of Medicine</td>\n",
       "      <td>1878</td>\n",
       "      <td>Commanding Officer</td>\n",
       "      <td>23 Apr 1878</td>\n",
       "      <td>Southern Volunteer Artillery</td>\n",
       "      <td>https://stors.tas.gov.au/NI/1517087</td>\n",
       "    </tr>\n",
       "    <tr>\n",
       "      <th>1</th>\n",
       "      <td>Crowther, William L</td>\n",
       "      <td>63.0</td>\n",
       "      <td>Doctor of Medicine</td>\n",
       "      <td>1878</td>\n",
       "      <td>Surgeon Major</td>\n",
       "      <td>10 May 1878</td>\n",
       "      <td>Southern Volunteer Artillery</td>\n",
       "      <td>https://stors.tas.gov.au/NI/1517088</td>\n",
       "    </tr>\n",
       "    <tr>\n",
       "      <th>2</th>\n",
       "      <td>Roblin, Thomas</td>\n",
       "      <td>50.0</td>\n",
       "      <td>Curator of Museum</td>\n",
       "      <td>1878</td>\n",
       "      <td>Lieutenant</td>\n",
       "      <td>23 Apr 1878</td>\n",
       "      <td>Southern Volunteer Artillery</td>\n",
       "      <td>https://stors.tas.gov.au/NI/1517089</td>\n",
       "    </tr>\n",
       "    <tr>\n",
       "      <th>3</th>\n",
       "      <td>Lewis, D</td>\n",
       "      <td>NaN</td>\n",
       "      <td>Merchant</td>\n",
       "      <td>1878</td>\n",
       "      <td>Major Paymaster</td>\n",
       "      <td>23 Apr 1878</td>\n",
       "      <td>Southern Volunteer Artillery</td>\n",
       "      <td>https://stors.tas.gov.au/NI/1517090</td>\n",
       "    </tr>\n",
       "    <tr>\n",
       "      <th>4</th>\n",
       "      <td>Green, William Patrick</td>\n",
       "      <td>NaN</td>\n",
       "      <td>Gentleman</td>\n",
       "      <td>1878</td>\n",
       "      <td>Quartermaster Captain</td>\n",
       "      <td>16 Aug 1878</td>\n",
       "      <td>Southern Volunteer Artillery</td>\n",
       "      <td>https://stors.tas.gov.au/NI/1517091</td>\n",
       "    </tr>\n",
       "  </tbody>\n",
       "</table>\n",
       "</div>"
      ],
      "text/plain": [
       "                       NAME   AGE               OCCUP  YEAR  \\\n",
       "0  Crowther, Edward Lodewyk  33.0  Doctor of Medicine  1878   \n",
       "1       Crowther, William L  63.0  Doctor of Medicine  1878   \n",
       "2            Roblin, Thomas  50.0   Curator of Museum  1878   \n",
       "3                  Lewis, D   NaN            Merchant  1878   \n",
       "4    Green, William Patrick   NaN           Gentleman  1878   \n",
       "\n",
       "               NAME_RANK  EMPLOY_DATE                      EMPLOYER  \\\n",
       "0     Commanding Officer  23 Apr 1878  Southern Volunteer Artillery   \n",
       "1          Surgeon Major  10 May 1878  Southern Volunteer Artillery   \n",
       "2             Lieutenant  23 Apr 1878  Southern Volunteer Artillery   \n",
       "3        Major Paymaster  23 Apr 1878  Southern Volunteer Artillery   \n",
       "4  Quartermaster Captain  16 Aug 1878  Southern Volunteer Artillery   \n",
       "\n",
       "                            RECORD_URL  \n",
       "0  https://stors.tas.gov.au/NI/1517087  \n",
       "1  https://stors.tas.gov.au/NI/1517088  \n",
       "2  https://stors.tas.gov.au/NI/1517089  \n",
       "3  https://stors.tas.gov.au/NI/1517090  \n",
       "4  https://stors.tas.gov.au/NI/1517091  "
      ]
     },
     "execution_count": 5,
     "metadata": {},
     "output_type": "execute_result"
    }
   ],
   "source": [
    "# Delete column we don't want\n",
    "del df['OCCUP_INDEX']\n",
    "df.head()"
   ]
  },
  {
   "cell_type": "code",
   "execution_count": 6,
   "metadata": {
    "inputHidden": false,
    "outputHidden": false
   },
   "outputs": [
    {
     "data": {
      "text/plain": [
       "NAME           4325\n",
       "AGE             811\n",
       "OCCUP          3739\n",
       "YEAR           4172\n",
       "NAME_RANK       675\n",
       "EMPLOY_DATE     852\n",
       "EMPLOYER        877\n",
       "RECORD_URL     4325\n",
       "dtype: int64"
      ]
     },
     "execution_count": 6,
     "metadata": {},
     "output_type": "execute_result"
    }
   ],
   "source": [
    "# Identify incomplete rows\n",
    "df.count()"
   ]
  },
  {
   "cell_type": "code",
   "execution_count": 7,
   "metadata": {
    "inputHidden": false,
    "outputHidden": false
   },
   "outputs": [],
   "source": [
    "# Drop all rows with missing information\n",
    "df = df.dropna(how='any')"
   ]
  },
  {
   "cell_type": "code",
   "execution_count": 8,
   "metadata": {
    "inputHidden": false,
    "outputHidden": false
   },
   "outputs": [
    {
     "data": {
      "text/plain": [
       "NAME           613\n",
       "AGE            613\n",
       "OCCUP          613\n",
       "YEAR           613\n",
       "NAME_RANK      613\n",
       "EMPLOY_DATE    613\n",
       "EMPLOYER       613\n",
       "RECORD_URL     613\n",
       "dtype: int64"
      ]
     },
     "execution_count": 8,
     "metadata": {},
     "output_type": "execute_result"
    }
   ],
   "source": [
    "# Verify dropped rows\n",
    "df.count()"
   ]
  },
  {
   "cell_type": "code",
   "execution_count": 9,
   "metadata": {
    "inputHidden": false,
    "outputHidden": false
   },
   "outputs": [
    {
     "data": {
      "text/plain": [
       "NAME            object\n",
       "AGE            float64\n",
       "OCCUP           object\n",
       "YEAR            object\n",
       "NAME_RANK       object\n",
       "EMPLOY_DATE     object\n",
       "EMPLOYER        object\n",
       "RECORD_URL      object\n",
       "dtype: object"
      ]
     },
     "execution_count": 9,
     "metadata": {},
     "output_type": "execute_result"
    }
   ],
   "source": [
    "# The YEAR column is the wrong data type. It should be an integer.\n",
    "df.dtypes"
   ]
  },
  {
   "cell_type": "code",
   "execution_count": 10,
   "metadata": {
    "inputHidden": false,
    "outputHidden": false
   },
   "outputs": [],
   "source": [
    "# Use df.astype() method to convert the datatype of the YEAR column\n",
    "df = df.astype({\"YEAR\": int}, errors='raise')"
   ]
  },
  {
   "cell_type": "code",
   "execution_count": 11,
   "metadata": {
    "inputHidden": false,
    "outputHidden": false
   },
   "outputs": [
    {
     "data": {
      "text/plain": [
       "dtype('int64')"
      ]
     },
     "execution_count": 11,
     "metadata": {},
     "output_type": "execute_result"
    }
   ],
   "source": [
    "# Verify that the YEAR column datatype has been made an integer\n",
    "df['YEAR'].dtype"
   ]
  },
  {
   "cell_type": "code",
   "execution_count": 12,
   "metadata": {
    "inputHidden": false,
    "outputHidden": false
   },
   "outputs": [
    {
     "data": {
      "text/plain": [
       "Clerk                 85\n",
       "Labourer              41\n",
       "Bootmaker             40\n",
       "Carpenter             30\n",
       "Blacksmith            23\n",
       "                      ..\n",
       "Tin Carrier            1\n",
       "Hatter                 1\n",
       "Chemists Assistant     1\n",
       "None at present        1\n",
       "Solderer               1\n",
       "Name: OCCUP, Length: 170, dtype: int64"
      ]
     },
     "execution_count": 12,
     "metadata": {},
     "output_type": "execute_result"
    }
   ],
   "source": [
    "# Display an overview of the OCCUP column\n",
    "df['OCCUP'].value_counts()"
   ]
  },
  {
   "cell_type": "code",
   "execution_count": 13,
   "metadata": {
    "inputHidden": false,
    "outputHidden": false
   },
   "outputs": [],
   "source": [
    "# Clean up OCCUP category. Replace 'Laborer' with 'Labourer',\n",
    "# 'Stone Mason' with 'Stonemason', 'Boot Maker' with 'Bootmaker'\n",
    "# 'Coachtrimmer' with 'Coach Trimmer', and 'None' with 'None at present'\n",
    "df['OCCUP'] = df['OCCUP'].replace({'Laborer': 'Labourer', \n",
    "                                   'Stone Mason': 'Stonemason', \n",
    "                                   'Boot Maker': 'Bootmaker',\n",
    "                                   'Coachtrimmer': 'Coach Trimmer', \n",
    "                                   'None': 'None at present'})"
   ]
  },
  {
   "cell_type": "code",
   "execution_count": 14,
   "metadata": {
    "inputHidden": false,
    "outputHidden": false
   },
   "outputs": [
    {
     "data": {
      "text/plain": [
       "Clerk                   85\n",
       "Labourer                50\n",
       "Bootmaker               42\n",
       "Carpenter               30\n",
       "Blacksmith              23\n",
       "                        ..\n",
       "Tin Carrier              1\n",
       "Hatter                   1\n",
       "Government Messenger     1\n",
       "Estate Agent             1\n",
       "Drayman                  1\n",
       "Name: OCCUP, Length: 165, dtype: int64"
      ]
     },
     "execution_count": 14,
     "metadata": {},
     "output_type": "execute_result"
    }
   ],
   "source": [
    "# Verify clean-up.\n",
    "df['OCCUP'].value_counts()"
   ]
  },
  {
   "cell_type": "code",
   "execution_count": 15,
   "metadata": {
    "inputHidden": false,
    "outputHidden": false
   },
   "outputs": [
    {
     "data": {
      "text/html": [
       "<div>\n",
       "<style scoped>\n",
       "    .dataframe tbody tr th:only-of-type {\n",
       "        vertical-align: middle;\n",
       "    }\n",
       "\n",
       "    .dataframe tbody tr th {\n",
       "        vertical-align: top;\n",
       "    }\n",
       "\n",
       "    .dataframe thead th {\n",
       "        text-align: right;\n",
       "    }\n",
       "</style>\n",
       "<table border=\"1\" class=\"dataframe\">\n",
       "  <thead>\n",
       "    <tr style=\"text-align: right;\">\n",
       "      <th></th>\n",
       "      <th>AGE</th>\n",
       "      <th>YEAR</th>\n",
       "    </tr>\n",
       "  </thead>\n",
       "  <tbody>\n",
       "    <tr>\n",
       "      <th>count</th>\n",
       "      <td>613.000000</td>\n",
       "      <td>613.000000</td>\n",
       "    </tr>\n",
       "    <tr>\n",
       "      <th>mean</th>\n",
       "      <td>22.168026</td>\n",
       "      <td>1884.690049</td>\n",
       "    </tr>\n",
       "    <tr>\n",
       "      <th>std</th>\n",
       "      <td>6.170202</td>\n",
       "      <td>6.250635</td>\n",
       "    </tr>\n",
       "    <tr>\n",
       "      <th>min</th>\n",
       "      <td>16.000000</td>\n",
       "      <td>1843.000000</td>\n",
       "    </tr>\n",
       "    <tr>\n",
       "      <th>25%</th>\n",
       "      <td>18.000000</td>\n",
       "      <td>1879.000000</td>\n",
       "    </tr>\n",
       "    <tr>\n",
       "      <th>50%</th>\n",
       "      <td>20.000000</td>\n",
       "      <td>1883.000000</td>\n",
       "    </tr>\n",
       "    <tr>\n",
       "      <th>75%</th>\n",
       "      <td>24.000000</td>\n",
       "      <td>1889.000000</td>\n",
       "    </tr>\n",
       "    <tr>\n",
       "      <th>max</th>\n",
       "      <td>71.000000</td>\n",
       "      <td>1899.000000</td>\n",
       "    </tr>\n",
       "  </tbody>\n",
       "</table>\n",
       "</div>"
      ],
      "text/plain": [
       "              AGE         YEAR\n",
       "count  613.000000   613.000000\n",
       "mean    22.168026  1884.690049\n",
       "std      6.170202     6.250635\n",
       "min     16.000000  1843.000000\n",
       "25%     18.000000  1879.000000\n",
       "50%     20.000000  1883.000000\n",
       "75%     24.000000  1889.000000\n",
       "max     71.000000  1899.000000"
      ]
     },
     "execution_count": 15,
     "metadata": {},
     "output_type": "execute_result"
    }
   ],
   "source": [
    "# Display a statistical overview\n",
    "# We can infer the maximum allowable individual contribution from 'max'\n",
    "df.describe()"
   ]
  },
  {
   "cell_type": "code",
   "execution_count": 16,
   "metadata": {},
   "outputs": [],
   "source": [
    "df.to_csv(\"Resources/tas_employment_clean.csv\", index=False)"
   ]
  },
  {
   "cell_type": "code",
   "execution_count": null,
   "metadata": {},
   "outputs": [],
   "source": []
  }
 ],
 "metadata": {
  "anaconda-cloud": {},
  "kernel_info": {
   "name": "python3"
  },
  "kernelspec": {
   "display_name": "Python 3",
   "language": "python",
   "name": "python3"
  },
  "language_info": {
   "codemirror_mode": {
    "name": "ipython",
    "version": 3
   },
   "file_extension": ".py",
   "mimetype": "text/x-python",
   "name": "python",
   "nbconvert_exporter": "python",
   "pygments_lexer": "ipython3",
   "version": "3.8.8"
  },
  "nteract": {
   "version": "0.2.0"
  }
 },
 "nbformat": 4,
 "nbformat_minor": 2
}
